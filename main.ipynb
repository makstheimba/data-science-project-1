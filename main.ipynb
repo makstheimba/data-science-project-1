{
 "cells": [
  {
   "cell_type": "code",
   "execution_count": 38,
   "id": "da069149-2bbb-4cf8-ac02-b878d01d300c",
   "metadata": {},
   "outputs": [],
   "source": [
    "import pandas as pd"
   ]
  },
  {
   "attachments": {},
   "cell_type": "markdown",
   "id": "35773a85",
   "metadata": {},
   "source": [
    "# Preparing data\n",
    "We will rename columns to the same style of naming\n",
    "We will also drop all columns where the track and artist are null, since it's likely that those were not really played songs"
   ]
  },
  {
   "cell_type": "code",
   "execution_count": 39,
   "id": "fe1e5959",
   "metadata": {},
   "outputs": [],
   "source": [
    "df = pd.read_csv('./music_project_en.csv')"
   ]
  },
  {
   "cell_type": "code",
   "execution_count": 40,
   "id": "fbf8fb80",
   "metadata": {},
   "outputs": [
    {
     "data": {
      "text/html": [
       "<div>\n",
       "<style scoped>\n",
       "    .dataframe tbody tr th:only-of-type {\n",
       "        vertical-align: middle;\n",
       "    }\n",
       "\n",
       "    .dataframe tbody tr th {\n",
       "        vertical-align: top;\n",
       "    }\n",
       "\n",
       "    .dataframe thead th {\n",
       "        text-align: right;\n",
       "    }\n",
       "</style>\n",
       "<table border=\"1\" class=\"dataframe\">\n",
       "  <thead>\n",
       "    <tr style=\"text-align: right;\">\n",
       "      <th></th>\n",
       "      <th>userID</th>\n",
       "      <th>Track</th>\n",
       "      <th>artist</th>\n",
       "      <th>genre</th>\n",
       "      <th>City</th>\n",
       "      <th>time</th>\n",
       "      <th>Day</th>\n",
       "    </tr>\n",
       "  </thead>\n",
       "  <tbody>\n",
       "    <tr>\n",
       "      <th>count</th>\n",
       "      <td>65079</td>\n",
       "      <td>63736</td>\n",
       "      <td>57512</td>\n",
       "      <td>63881</td>\n",
       "      <td>65079</td>\n",
       "      <td>65079</td>\n",
       "      <td>65079</td>\n",
       "    </tr>\n",
       "    <tr>\n",
       "      <th>unique</th>\n",
       "      <td>41748</td>\n",
       "      <td>39666</td>\n",
       "      <td>37806</td>\n",
       "      <td>268</td>\n",
       "      <td>2</td>\n",
       "      <td>20392</td>\n",
       "      <td>3</td>\n",
       "    </tr>\n",
       "    <tr>\n",
       "      <th>top</th>\n",
       "      <td>A8AE9169</td>\n",
       "      <td>Brand</td>\n",
       "      <td>Kartvelli</td>\n",
       "      <td>pop</td>\n",
       "      <td>Springfield</td>\n",
       "      <td>08:14:07</td>\n",
       "      <td>Friday</td>\n",
       "    </tr>\n",
       "    <tr>\n",
       "      <th>freq</th>\n",
       "      <td>76</td>\n",
       "      <td>136</td>\n",
       "      <td>136</td>\n",
       "      <td>8850</td>\n",
       "      <td>45360</td>\n",
       "      <td>14</td>\n",
       "      <td>23149</td>\n",
       "    </tr>\n",
       "  </tbody>\n",
       "</table>\n",
       "</div>"
      ],
      "text/plain": [
       "          userID  Track     artist  genre       City        time     Day\n",
       "count      65079  63736      57512  63881        65079     65079   65079\n",
       "unique     41748  39666      37806    268            2     20392       3\n",
       "top     A8AE9169  Brand  Kartvelli    pop  Springfield  08:14:07  Friday\n",
       "freq          76    136        136   8850        45360        14   23149"
      ]
     },
     "execution_count": 40,
     "metadata": {},
     "output_type": "execute_result"
    }
   ],
   "source": [
    "df.describe()"
   ]
  },
  {
   "cell_type": "code",
   "execution_count": 49,
   "id": "825ed73d",
   "metadata": {},
   "outputs": [
    {
     "data": {
      "text/html": [
       "<div>\n",
       "<style scoped>\n",
       "    .dataframe tbody tr th:only-of-type {\n",
       "        vertical-align: middle;\n",
       "    }\n",
       "\n",
       "    .dataframe tbody tr th {\n",
       "        vertical-align: top;\n",
       "    }\n",
       "\n",
       "    .dataframe thead th {\n",
       "        text-align: right;\n",
       "    }\n",
       "</style>\n",
       "<table border=\"1\" class=\"dataframe\">\n",
       "  <thead>\n",
       "    <tr style=\"text-align: right;\">\n",
       "      <th></th>\n",
       "      <th>userId</th>\n",
       "      <th>track</th>\n",
       "      <th>artist</th>\n",
       "      <th>genre</th>\n",
       "      <th>city</th>\n",
       "      <th>time</th>\n",
       "      <th>day</th>\n",
       "    </tr>\n",
       "  </thead>\n",
       "  <tbody>\n",
       "    <tr>\n",
       "      <th>0</th>\n",
       "      <td>FFB692EC</td>\n",
       "      <td>Kamigata To Boots</td>\n",
       "      <td>The Mass Missile</td>\n",
       "      <td>rock</td>\n",
       "      <td>Shelbyville</td>\n",
       "      <td>20:28:33</td>\n",
       "      <td>Wednesday</td>\n",
       "    </tr>\n",
       "    <tr>\n",
       "      <th>1</th>\n",
       "      <td>55204538</td>\n",
       "      <td>Delayed Because of Accident</td>\n",
       "      <td>Andreas Rönnberg</td>\n",
       "      <td>rock</td>\n",
       "      <td>Springfield</td>\n",
       "      <td>14:07:09</td>\n",
       "      <td>Friday</td>\n",
       "    </tr>\n",
       "    <tr>\n",
       "      <th>2</th>\n",
       "      <td>20EC38</td>\n",
       "      <td>Funiculì funiculà</td>\n",
       "      <td>Mario Lanza</td>\n",
       "      <td>pop</td>\n",
       "      <td>Shelbyville</td>\n",
       "      <td>20:58:07</td>\n",
       "      <td>Wednesday</td>\n",
       "    </tr>\n",
       "    <tr>\n",
       "      <th>3</th>\n",
       "      <td>A3DD03C9</td>\n",
       "      <td>Dragons in the Sunset</td>\n",
       "      <td>Fire + Ice</td>\n",
       "      <td>folk</td>\n",
       "      <td>Shelbyville</td>\n",
       "      <td>08:37:09</td>\n",
       "      <td>Monday</td>\n",
       "    </tr>\n",
       "    <tr>\n",
       "      <th>4</th>\n",
       "      <td>E2DC1FAE</td>\n",
       "      <td>Soul People</td>\n",
       "      <td>Space Echo</td>\n",
       "      <td>dance</td>\n",
       "      <td>Springfield</td>\n",
       "      <td>08:34:34</td>\n",
       "      <td>Monday</td>\n",
       "    </tr>\n",
       "    <tr>\n",
       "      <th>5</th>\n",
       "      <td>842029A1</td>\n",
       "      <td>Chains</td>\n",
       "      <td>Obladaet</td>\n",
       "      <td>rusrap</td>\n",
       "      <td>Shelbyville</td>\n",
       "      <td>13:09:41</td>\n",
       "      <td>Friday</td>\n",
       "    </tr>\n",
       "    <tr>\n",
       "      <th>6</th>\n",
       "      <td>4CB90AA5</td>\n",
       "      <td>True</td>\n",
       "      <td>Roman Messer</td>\n",
       "      <td>dance</td>\n",
       "      <td>Springfield</td>\n",
       "      <td>13:00:07</td>\n",
       "      <td>Wednesday</td>\n",
       "    </tr>\n",
       "    <tr>\n",
       "      <th>7</th>\n",
       "      <td>F03E1C1F</td>\n",
       "      <td>Feeling This Way</td>\n",
       "      <td>Polina Griffith</td>\n",
       "      <td>dance</td>\n",
       "      <td>Springfield</td>\n",
       "      <td>20:47:49</td>\n",
       "      <td>Wednesday</td>\n",
       "    </tr>\n",
       "    <tr>\n",
       "      <th>8</th>\n",
       "      <td>8FA1D3BE</td>\n",
       "      <td>L’estate</td>\n",
       "      <td>Julia Dalia</td>\n",
       "      <td>ruspop</td>\n",
       "      <td>Springfield</td>\n",
       "      <td>09:17:40</td>\n",
       "      <td>Friday</td>\n",
       "    </tr>\n",
       "    <tr>\n",
       "      <th>9</th>\n",
       "      <td>E772D5C0</td>\n",
       "      <td>Pessimist</td>\n",
       "      <td>NaN</td>\n",
       "      <td>dance</td>\n",
       "      <td>Shelbyville</td>\n",
       "      <td>21:20:49</td>\n",
       "      <td>Wednesday</td>\n",
       "    </tr>\n",
       "  </tbody>\n",
       "</table>\n",
       "</div>"
      ],
      "text/plain": [
       "     userId                        track            artist   genre  \\\n",
       "0  FFB692EC            Kamigata To Boots  The Mass Missile    rock   \n",
       "1  55204538  Delayed Because of Accident  Andreas Rönnberg    rock   \n",
       "2    20EC38            Funiculì funiculà       Mario Lanza     pop   \n",
       "3  A3DD03C9        Dragons in the Sunset        Fire + Ice    folk   \n",
       "4  E2DC1FAE                  Soul People        Space Echo   dance   \n",
       "5  842029A1                       Chains          Obladaet  rusrap   \n",
       "6  4CB90AA5                         True      Roman Messer   dance   \n",
       "7  F03E1C1F             Feeling This Way   Polina Griffith   dance   \n",
       "8  8FA1D3BE                     L’estate       Julia Dalia  ruspop   \n",
       "9  E772D5C0                    Pessimist               NaN   dance   \n",
       "\n",
       "          city      time        day  \n",
       "0  Shelbyville  20:28:33  Wednesday  \n",
       "1  Springfield  14:07:09     Friday  \n",
       "2  Shelbyville  20:58:07  Wednesday  \n",
       "3  Shelbyville  08:37:09     Monday  \n",
       "4  Springfield  08:34:34     Monday  \n",
       "5  Shelbyville  13:09:41     Friday  \n",
       "6  Springfield  13:00:07  Wednesday  \n",
       "7  Springfield  20:47:49  Wednesday  \n",
       "8  Springfield  09:17:40     Friday  \n",
       "9  Shelbyville  21:20:49  Wednesday  "
      ]
     },
     "execution_count": 49,
     "metadata": {},
     "output_type": "execute_result"
    }
   ],
   "source": [
    "df.head(10)"
   ]
  },
  {
   "cell_type": "code",
   "execution_count": 58,
   "id": "434dc126",
   "metadata": {},
   "outputs": [
    {
     "name": "stdout",
     "output_type": "stream",
     "text": [
      "<class 'pandas.core.frame.DataFrame'>\n",
      "Int64Index: 59991 entries, 0 to 65078\n",
      "Data columns (total 7 columns):\n",
      " #   Column  Non-Null Count  Dtype \n",
      "---  ------  --------------  ----- \n",
      " 0   userId  59991 non-null  object\n",
      " 1   track   59991 non-null  object\n",
      " 2   artist  54156 non-null  object\n",
      " 3   genre   59527 non-null  object\n",
      " 4   city    59991 non-null  object\n",
      " 5   time    59991 non-null  object\n",
      " 6   day     59991 non-null  object\n",
      "dtypes: object(7)\n",
      "memory usage: 3.7+ MB\n"
     ]
    }
   ],
   "source": [
    "df.info()"
   ]
  },
  {
   "attachments": {},
   "cell_type": "markdown",
   "id": "7c6f95ed",
   "metadata": {},
   "source": [
    "We will rename columns to have the same style, drop duplicate rows and drop rows that don't have a track and artist"
   ]
  },
  {
   "cell_type": "code",
   "execution_count": 59,
   "id": "51cc9a26-0dc8-4eda-a2f6-6697015c77fe",
   "metadata": {},
   "outputs": [],
   "source": [
    "\n",
    "df.rename(columns={'  City  ': 'city', '  userID': 'userId', 'Track': 'track', 'Day': 'day'}, inplace=True)\n",
    "df = df.drop_duplicates().reset_index(drop=True)\n",
    "df = df.dropna(subset=['track', 'artist'], how='all')"
   ]
  },
  {
   "attachments": {},
   "cell_type": "markdown",
   "id": "457d0c5a",
   "metadata": {},
   "source": [
    "# Testing hypothesis\n",
    "## Hypothesis 1. User activity differs depending on the day of the week and from city to city."
   ]
  },
  {
   "cell_type": "code",
   "execution_count": 60,
   "id": "f5934af8-73b7-48f6-ba04-db063744a172",
   "metadata": {},
   "outputs": [
    {
     "name": "stdout",
     "output_type": "stream",
     "text": [
      "Total plays in Shelbyville:  18118\n",
      "Total plays in Springfield:  41873\n"
     ]
    }
   ],
   "source": [
    "for city in df['city'].unique():\n",
    "    print(f'Total plays in {city}: ', df[df['city'] == city]['track'].count())"
   ]
  },
  {
   "cell_type": "code",
   "execution_count": 61,
   "id": "92cfe13c-6128-4244-88eb-2cf11549fb27",
   "metadata": {},
   "outputs": [
    {
     "name": "stdout",
     "output_type": "stream",
     "text": [
      "Total plays on Wednesday:  17717\n",
      "Total plays on Friday:  21475\n",
      "Total plays on Monday:  20799\n"
     ]
    }
   ],
   "source": [
    "for day in df['day'].unique():\n",
    "    print(f'Total plays on {day}: ', df[df['day'] == day]['track'].count())"
   ]
  },
  {
   "cell_type": "code",
   "execution_count": 62,
   "id": "0ef2553e",
   "metadata": {},
   "outputs": [
    {
     "data": {
      "text/plain": [
       "<AxesSubplot: xlabel='city,day'>"
      ]
     },
     "execution_count": 62,
     "metadata": {},
     "output_type": "execute_result"
    },
    {
     "data": {
      "image/png": "[encoded data removed]",
      "text/plain": [
       "<Figure size 2000x500 with 1 Axes>"
      ]
     },
     "metadata": {},
     "output_type": "display_data"
    }
   ],
   "source": [
    "\n",
    "df.groupby(['city', 'day'])['track'].count().plot(kind='bar', figsize=(20, 5), color='green', grid=True)"
   ]
  },
  {
   "attachments": {},
   "cell_type": "markdown",
   "id": "9aec6b18",
   "metadata": {},
   "source": [
    "### Conclusion for Hypothesis 1\n",
    "**Hypothesis: User activity differs depending on the day of the week and from city to city.**\n",
    "\n",
    "User activity really does diifer.\n",
    "\n",
    "User activity differs much more by city than by day of the week. People in Springfield play 2 times more tracks than people in Shelbyville. "
   ]
  },
  {
   "attachments": {},
   "cell_type": "markdown",
   "id": "bc6fb1f0",
   "metadata": {},
   "source": [
    "## Hypothesis 2. On Monday mornings, Springfield and Shelbyville residents listen to different genres. This is also true for Friday evenings."
   ]
  },
  {
   "cell_type": "code",
   "execution_count": 63,
   "id": "89e5782d",
   "metadata": {},
   "outputs": [
    {
     "name": "stdout",
     "output_type": "stream",
     "text": [
      "Most popular genres to listen to on Monday mornings in the city of Shelbyville\n",
      "pop           13.333333\n",
      "dance         11.474359\n",
      "rock          10.128205\n",
      "electronic     9.423077\n",
      "hip            5.064103\n",
      "Name: genre, dtype: float64\n",
      "Most popular genres to listen to on Monday mornings in the city of Springfield\n",
      "pop           15.164015\n",
      "dance         10.685523\n",
      "electronic     9.428403\n",
      "rock           9.192693\n",
      "hip            5.480259\n",
      "Name: genre, dtype: float64\n"
     ]
    }
   ],
   "source": [
    "def calculate_genre_popularity(df):\n",
    "    city_total_plays = df.shape[0]\n",
    "    genre_monday_morning_value_counts = df['genre'].value_counts()\n",
    "\n",
    "    print((genre_monday_morning_value_counts / city_total_plays * 100).head(5))\n",
    "\n",
    "for city in df['city'].unique():\n",
    "    city_df = df[df['city'] == city]\n",
    "    monday_morning_city_df = city_df[city_df['time'].between('06:00:00', '12:00:00')].loc[city_df['day'] == 'Monday']\n",
    "    \n",
    "    print('Most popular genres to listen to on Monday mornings in the city of', city)\n",
    "    calculate_genre_popularity(monday_morning_city_df)"
   ]
  },
  {
   "cell_type": "code",
   "execution_count": 64,
   "id": "1273b4b3",
   "metadata": {},
   "outputs": [
    {
     "name": "stdout",
     "output_type": "stream",
     "text": [
      "Most popular genres to listen to on Friday evenings in the city of Shelbyville\n",
      "pop           12.580485\n",
      "electronic    10.698366\n",
      "rock          10.599307\n",
      "dance         10.401189\n",
      "hip            4.606241\n",
      "Name: genre, dtype: float64\n",
      "Most popular genres to listen to on Friday evenings in the city of Springfield\n",
      "pop           13.548884\n",
      "rock           9.834488\n",
      "dance          9.488068\n",
      "electronic     9.276366\n",
      "hip            5.003849\n",
      "Name: genre, dtype: float64\n"
     ]
    }
   ],
   "source": [
    "for city in df['city'].unique():\n",
    "    city_df = df[df['city'] == city]\n",
    "    friday_evening_city_df = city_df[city_df['time'].between('18:00:00', '23:59:59')].loc[city_df['day'] == 'Friday']\n",
    "    print('Most popular genres to listen to on Friday evenings in the city of', city)\n",
    "    calculate_genre_popularity(friday_evening_city_df)"
   ]
  },
  {
   "attachments": {},
   "cell_type": "markdown",
   "id": "f18ac4d2",
   "metadata": {},
   "source": [
    "### Conclusion for Hypothesis 2\n",
    "**On Monday mornings, Springfield and Shelbyville residents listen to different genres. This is also true for Friday evenings.**\n",
    "\n",
    "If we look at top 5 genres for each city in a particular time interval we can see that while time interval does affect different genres being played by users, the city does not do it as much.\n",
    "\n",
    "From a general perspective this hypothesis is not true. However further statistical analysis can be used to rate a difference more explicitly."
   ]
  },
  {
   "attachments": {},
   "cell_type": "markdown",
   "id": "68d54c87",
   "metadata": {},
   "source": [
    "## Hypthesis 3. Springfield and Shelbyville listeners have different preferences. In Springfield, they prefer pop, while Shelbyville has more rap fans."
   ]
  },
  {
   "cell_type": "code",
   "execution_count": 65,
   "id": "4b577d45",
   "metadata": {},
   "outputs": [
    {
     "name": "stdout",
     "output_type": "stream",
     "text": [
      "Top genres by absolute number of listeners in Shelbyville\n",
      "pop            2376\n",
      "dance          1921\n",
      "rock           1850\n",
      "electronic     1734\n",
      "hip             922\n",
      "classical       643\n",
      "alternative     635\n",
      "rusrap          563\n",
      "Name: genre, dtype: int64\n",
      "Top genres by absolute number of listeners in Springfield\n",
      "pop           5808\n",
      "dance         4413\n",
      "rock          3919\n",
      "electronic    3784\n",
      "hip           2017\n",
      "classical     1612\n",
      "world         1430\n",
      "ruspop        1372\n",
      "Name: genre, dtype: int64\n"
     ]
    }
   ],
   "source": [
    "for city in df['city'].unique():\n",
    "    city_df = df[df['city'] == city]\n",
    "\n",
    "    print('Top genres by absolute number of listeners in', city)\n",
    "    print(city_df['genre'].value_counts().head(8))"
   ]
  },
  {
   "cell_type": "code",
   "execution_count": 66,
   "id": "c441f3e5",
   "metadata": {},
   "outputs": [
    {
     "name": "stdout",
     "output_type": "stream",
     "text": [
      "Top genres by relative number of listeners in Shelbyville\n",
      "pop            13.114030\n",
      "dance          10.602716\n",
      "rock           10.210840\n",
      "electronic      9.570593\n",
      "hip             5.088862\n",
      "classical       3.548957\n",
      "alternative     3.504802\n",
      "rusrap          3.107407\n",
      "ruspop          2.969423\n",
      "world           2.836958\n",
      "Name: genre, dtype: float64\n",
      "Top genres by relative number of listeners in Springfield\n",
      "pop            13.870513\n",
      "dance          10.539011\n",
      "rock            9.359253\n",
      "electronic      9.036850\n",
      "hip             4.816946\n",
      "classical       3.849736\n",
      "world           3.415088\n",
      "ruspop          3.276574\n",
      "alternative     3.243140\n",
      "rusrap          2.760729\n",
      "Name: genre, dtype: float64\n"
     ]
    }
   ],
   "source": [
    "for city in df['city'].unique():\n",
    "    city_df = df[df['city'] == city]\n",
    "    total_plays = city_df.shape[0]\n",
    "\n",
    "    print('Top genres by relative number of listeners in', city)\n",
    "    print((city_df['genre'].value_counts() / total_plays * 100).head(10))"
   ]
  },
  {
   "attachments": {},
   "cell_type": "markdown",
   "id": "b49c191c",
   "metadata": {},
   "source": [
    "### Conclusion for Hypothesis 3\n",
    "**Springfield and Shelbyville listeners have different preferences. In Springfield, they prefer pop, while Shelbyville has more rap fans.**\n",
    "\n",
    "Absolute number of listeners in two cities differs a lot.\n",
    "Relatively speaking people in both cities prefer music that is about the same.\n",
    "\n",
    "This proves that hypothesis is not true."
   ]
  }
 ],
 "metadata": {
  "kernelspec": {
   "display_name": "practicum-project-1",
   "language": "python",
   "name": "practicum-project-1"
  },
  "language_info": {
   "codemirror_mode": {
    "name": "ipython",
    "version": 3
   },
   "file_extension": ".py",
   "mimetype": "text/x-python",
   "name": "python",
   "nbconvert_exporter": "python",
   "pygments_lexer": "ipython3",
   "version": "3.9.16"
  }
 },
 "nbformat": 4,
 "nbformat_minor": 5
}
